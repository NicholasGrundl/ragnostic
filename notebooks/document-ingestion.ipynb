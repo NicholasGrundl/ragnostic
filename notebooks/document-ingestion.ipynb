{
 "cells": [
  {
   "cell_type": "markdown",
   "id": "5c2a0bc5-abf0-4680-a7cb-306ef2f68502",
   "metadata": {},
   "source": [
    "# Goals\n",
    "\n",
    "This notebook will map pout the burr pipelines that we will use to do document ingestion"
   ]
  },
  {
   "cell_type": "markdown",
   "id": "a3bab379-9a89-4043-b158-44b61c13e604",
   "metadata": {},
   "source": [
    "## ENV Variables"
   ]
  },
  {
   "cell_type": "code",
   "execution_count": 1,
   "id": "447ddc83-337a-46fb-a852-be8ee373fa1a",
   "metadata": {},
   "outputs": [],
   "source": [
    "# set your OpenAI API key\n",
    "import os\n",
    "from dotenv import load_dotenv\n",
    "\n",
    "# Load environment variables from .env file\n",
    "load_dotenv()\n",
    "\n",
    "# Verify that the API key is loaded\n",
    "openai_api_key = os.getenv('OPENAI_API_KEY')\n",
    "anthropic_api_key = os.getenv('ANTHROPIC_API_KEY')"
   ]
  },
  {
   "cell_type": "markdown",
   "id": "aa950369-4f5f-4219-bd33-62a875b583bb",
   "metadata": {},
   "source": [
    "# Ingestion Flow DAG  \n",
    "\n",
    "The Ingestion covers adding new files to the sql lite database.\n",
    "\n",
    "\n",
    "At this level we will include:\n",
    "- monitor: find new files\n",
    "- validation: they are unique with a has\n",
    "- ingest: move to raw stortage\n",
    "- index: add to database\n"
   ]
  },
  {
   "cell_type": "code",
   "execution_count": 14,
   "id": "183f6801-4f87-4d6c-9a8f-d480cacaae86",
   "metadata": {},
   "outputs": [
    {
     "name": "stdout",
     "output_type": "stream",
     "text": [
      "Processing +storage/DOC_m2rwnctechtu.pdf...\n",
      "]========================================] (4/4)\n",
      "Processing +storage/DOC_7kkl8igzpp1l.pdf...\n",
      "]========================================] (6/6)\n"
     ]
    },
    {
     "data": {
      "text/plain": [
       "{'__SEQUENCE_ID': 3, 'monitor_result': MonitorResult(status=<MonitorStatus.MONITORING: 'monitoring'>, files=[PosixPath('/home/nicholasgrundl/projects/ragnostic/notebooks/+ingest/REPORT_2003_OptimizePowerConsumptionInAerobicFermenters.pdf'), PosixPath('/home/nicholasgrundl/projects/ragnostic/notebooks/+ingest/JOURNAL_2017_AerationCostsInStirredTankAndBubbleColumnBioreactors.pdf')], error_message=None), 'error': None, '__PRIOR_STEP': 'indexing', 'validation_result': BatchValidationResult(valid_files=[ValidationResult(filepath=PosixPath('/home/nicholasgrundl/projects/ragnostic/notebooks/+ingest/REPORT_2003_OptimizePowerConsumptionInAerobicFermenters.pdf'), is_valid=True, file_hash='48b3eab939120f59e570fded9292438fbca130cbc7055f78311e3c2498a256c7', mime_type='application/pdf', file_size_bytes=115486, check_failures=[]), ValidationResult(filepath=PosixPath('/home/nicholasgrundl/projects/ragnostic/notebooks/+ingest/JOURNAL_2017_AerationCostsInStirredTankAndBubbleColumnBioreactors.pdf'), is_valid=True, file_hash='f143e12292f0b459cd8759b41e52756d4fcf64cc9014ced662e177f196288b4a', mime_type='application/pdf', file_size_bytes=1443939, check_failures=[])], invalid_files=[]), 'processing_result': BatchProcessingResult(successful_docs=[ProcessingResult(doc_id='DOC_m2rwnctechtu', original_path=PosixPath('/home/nicholasgrundl/projects/ragnostic/notebooks/+ingest/REPORT_2003_OptimizePowerConsumptionInAerobicFermenters.pdf'), storage_path=PosixPath('+storage/DOC_m2rwnctechtu.pdf'), status=<ProcessingStatus.SUCCESS: 'success'>, error_message=None, error_code=None), ProcessingResult(doc_id='DOC_7kkl8igzpp1l', original_path=PosixPath('/home/nicholasgrundl/projects/ragnostic/notebooks/+ingest/JOURNAL_2017_AerationCostsInStirredTankAndBubbleColumnBioreactors.pdf'), storage_path=PosixPath('+storage/DOC_7kkl8igzpp1l.pdf'), status=<ProcessingStatus.SUCCESS: 'success'>, error_message=None, error_code=None)], failed_docs=[]), 'indexing_result': BatchIndexingResult(successful_docs=[IndexingResult(doc_id='DOC_m2rwnctechtu', filepath=PosixPath('+storage/DOC_m2rwnctechtu.pdf'), status=<IndexingStatus.SUCCESS: 'success'>, error_message=None, extracted_metadata=DocumentMetadataExtracted(title='New Title', authors=None, creation_date=datetime.datetime(2025, 2, 3, 11, 34, 30, 554895), page_count=4, language=None, text_preview='### Reactions and Separations\\n\\n## Optimize Power\\n Consumption in Aerobic Fermenters\\n\\n\\n**Gregory T. Benz**\\nBenz Technology International, Inc.\\n\\n\\n### By performing the necessary pilot work, and rigorously calculating the full-scale performance instead of using simple rules-of-thumb for scale-up, significant energy savings can be achieved in fermenters.\\n\\n\\nEROBIC FERMENTATION WAS PUT TO\\ncommercial use in the 1940s to make penicillin. Later, many other antibiotics were\\nmade via this method. Over the years, it has become aA\\nroute to economically produce a variety of compounds, including enzymes, amino acids, vitamins, flavor enhancers, thickening and binding agents, and\\ncleaning compounds. The list keeps growing.\\nOne reason for its widespread use is its specificity for\\nproducing compounds — that is, some species are difficult to make by other means, and other routes may produce high concentrations of byproducts. Another reason\\nis that fermentation requires comparatively mild conditions, in t')), IndexingResult(doc_id='DOC_7kkl8igzpp1l', filepath=PosixPath('+storage/DOC_7kkl8igzpp1l.pdf'), status=<IndexingStatus.SUCCESS: 'success'>, error_message=None, extracted_metadata=DocumentMetadataExtracted(title='Aeration Costs in Stirred-Tank and Bubble Column Bioreactors', authors=['D. Humbird', 'R. Davis', 'J.D. McMillan'], creation_date=datetime.datetime(2025, 2, 3, 11, 34, 31, 522771), page_count=6, language=None, text_preview='Contents lists available at ScienceDirect\\n\\n# Biochemical Engineering Journal\\n\\njournal homepage: www.elsevier.com\\n\\n\\n#### Regular article\\n\\n## Aeration costs in stirred-tank and bubble column bioreactors\\n\\n### D. Humbird[a], R. Davis[b,][ ⁎], J.D. McMillan[b]\\n\\na DWH Process Consulting LLC, Centennial, CO, United States\\nb National Renewable Energy Laboratory, National Bioenergy Center, Golden, CO, United States\\n\\n\\nA R T I C L E I N F O\\n\\n_Article history:_\\nReceived 21 February 2017\\nReceived in revised form 24 July 2017\\nAccepted 6 August 2017\\nAvailable online xxx\\n\\n_Keywords:_\\nAerobic fermentation\\nBioreactor design\\nCapital cost\\nGas-liquid oxygen mass transfer\\n\\n**1. Introduction**\\n\\n\\nA B S T R A C T\\n\\nTo overcome knowledge gaps in the economics of large-scale aeration for production of commodity products,\\nAspen Plus is used to simulate steady-state oxygen delivery in both stirred-tank and bubble column bioreactors, using published engineering correlations for oxygen mass transfer as a function of'))], failed_docs=[])}"
      ]
     },
     "execution_count": 14,
     "metadata": {},
     "output_type": "execute_result"
    }
   ],
   "source": [
    "import importlib\n",
    "from ragnostic import ingestion\n",
    "importlib.reload(ingestion)\n",
    "\n",
    "state = ingestion.run_ingestion(\n",
    "    ingest_dir=\"./+ingest\",\n",
    "    # kwargs\n",
    "    storage_dir = \"./+storage\",\n",
    "    db_path = \"./+ragnostic_db.db\",\n",
    "    max_file_size = 100 * 1024 * 1024,  # 100MB\n",
    "    text_preview_chars = 1000\n",
    ")\n",
    "state"
   ]
  },
  {
   "cell_type": "markdown",
   "id": "c5c18cfe-62c7-4f3a-9c0c-306a5a36399c",
   "metadata": {},
   "source": [
    "# Look in database"
   ]
  },
  {
   "cell_type": "code",
   "execution_count": 10,
   "id": "622e3a66-cbfc-41fe-801f-b19b35d17fe5",
   "metadata": {},
   "outputs": [],
   "source": [
    "from ragnostic import db\n",
    "db_path = '+ragnostic_db.db'\n",
    "db_url = db.create_sqlite_url(db_path)\n",
    "db_client = db.DatabaseClient(db_url)"
   ]
  },
  {
   "cell_type": "code",
   "execution_count": 11,
   "id": "8e4ebfd8-aad8-4f04-bcda-1f5c6c48d500",
   "metadata": {},
   "outputs": [
    {
     "name": "stdout",
     "output_type": "stream",
     "text": [
      "- filepath: storage/DOC_jfofei515yhm.pdf\n",
      "- metadata:\n",
      "{\n",
      "    \"doc_id\": \"DOC_jfofei515yhm\",\n",
      "    \"title\": \"New Title\",\n",
      "    \"authors\": null,\n",
      "    \"creation_date\": \"2025-02-03T11:31:18.233661\",\n",
      "    \"page_count\": 4,\n",
      "    \"language\": null\n",
      "}\n",
      "- filepath: storage/DOC_qqp37311ygrz.pdf\n",
      "- metadata:\n",
      "{\n",
      "    \"doc_id\": \"DOC_qqp37311ygrz\",\n",
      "    \"title\": \"Aeration Costs in Stirred-Tank and Bubble Column Bioreactors\",\n",
      "    \"authors\": [\n",
      "        \"D. Humbird\",\n",
      "        \"R. Davis\",\n",
      "        \"J.D. McMillan\"\n",
      "    ],\n",
      "    \"creation_date\": \"2025-02-03T11:31:19.194785\",\n",
      "    \"page_count\": 6,\n",
      "    \"language\": null\n",
      "}\n"
     ]
    }
   ],
   "source": [
    "documents = db_client.get_documents()\n",
    "for document in documents:\n",
    "    doc_id = document.id\n",
    "    print(f\"- filepath: {document.raw_file_path}\")\n",
    "    metadata = db_client.get_metadata(doc_id=doc_id)\n",
    "    print(f\"- metadata:\")\n",
    "    print(metadata.model_dump_json(indent=4))"
   ]
  },
  {
   "cell_type": "markdown",
   "id": "62d6c069-8f67-4121-b6d3-4b48680b9be3",
   "metadata": {},
   "source": [
    "# Step one by one"
   ]
  },
  {
   "cell_type": "code",
   "execution_count": 4,
   "id": "e6d31294-641a-45dd-bb9f-e031d29f5121",
   "metadata": {},
   "outputs": [
    {
     "data": {
      "image/svg+xml": [
       "<?xml version=\"1.0\" encoding=\"UTF-8\" standalone=\"no\"?>\n",
       "<!DOCTYPE svg PUBLIC \"-//W3C//DTD SVG 1.1//EN\"\n",
       " \"http://www.w3.org/Graphics/SVG/1.1/DTD/svg11.dtd\">\n",
       "<!-- Generated by graphviz version 2.43.0 (0)\n",
       " -->\n",
       "<!-- Title: %3 Pages: 1 -->\n",
       "<svg width=\"144pt\" height=\"309pt\"\n",
       " viewBox=\"0.00 0.00 144.00 309.00\" xmlns=\"http://www.w3.org/2000/svg\" xmlns:xlink=\"http://www.w3.org/1999/xlink\">\n",
       "<g id=\"graph0\" class=\"graph\" transform=\"scale(1 1) rotate(0) translate(4 305)\">\n",
       "<title>%3</title>\n",
       "<polygon fill=\"white\" stroke=\"transparent\" points=\"-4,4 -4,-305 140,-305 140,4 -4,4\"/>\n",
       "<!-- monitor -->\n",
       "<g id=\"node1\" class=\"node\">\n",
       "<title>monitor</title>\n",
       "<path fill=\"#b4d8e4\" stroke=\"black\" d=\"M94.5,-235C94.5,-235 41.5,-235 41.5,-235 35.5,-235 29.5,-229 29.5,-223 29.5,-223 29.5,-210 29.5,-210 29.5,-204 35.5,-198 41.5,-198 41.5,-198 94.5,-198 94.5,-198 100.5,-198 106.5,-204 106.5,-210 106.5,-210 106.5,-223 106.5,-223 106.5,-229 100.5,-235 94.5,-235\"/>\n",
       "<text text-anchor=\"middle\" x=\"68\" y=\"-212.8\" font-family=\"Helvetica,sans-Serif\" font-size=\"14.00\">monitor</text>\n",
       "</g>\n",
       "<!-- validation -->\n",
       "<g id=\"node3\" class=\"node\">\n",
       "<title>validation</title>\n",
       "<path fill=\"#b4d8e4\" stroke=\"black\" d=\"M101,-169C101,-169 35,-169 35,-169 29,-169 23,-163 23,-157 23,-157 23,-144 23,-144 23,-138 29,-132 35,-132 35,-132 101,-132 101,-132 107,-132 113,-138 113,-144 113,-144 113,-157 113,-157 113,-163 107,-169 101,-169\"/>\n",
       "<text text-anchor=\"middle\" x=\"68\" y=\"-146.8\" font-family=\"Helvetica,sans-Serif\" font-size=\"14.00\">validation</text>\n",
       "</g>\n",
       "<!-- monitor&#45;&gt;validation -->\n",
       "<g id=\"edge2\" class=\"edge\">\n",
       "<title>monitor&#45;&gt;validation</title>\n",
       "<path fill=\"none\" stroke=\"black\" d=\"M68,-197.67C68,-191.99 68,-185.55 68,-179.33\"/>\n",
       "<polygon fill=\"black\" stroke=\"black\" points=\"71.5,-179.23 68,-169.23 64.5,-179.23 71.5,-179.23\"/>\n",
       "</g>\n",
       "<!-- input__ingest_dir -->\n",
       "<g id=\"node2\" class=\"node\">\n",
       "<title>input__ingest_dir</title>\n",
       "<polygon fill=\"none\" stroke=\"black\" stroke-dasharray=\"5,2\" points=\"136,-301 0,-301 0,-264 136,-264 136,-301\"/>\n",
       "<text text-anchor=\"middle\" x=\"68\" y=\"-278.8\" font-family=\"Helvetica,sans-Serif\" font-size=\"14.00\">input: ingest_dir</text>\n",
       "</g>\n",
       "<!-- input__ingest_dir&#45;&gt;monitor -->\n",
       "<g id=\"edge1\" class=\"edge\">\n",
       "<title>input__ingest_dir&#45;&gt;monitor</title>\n",
       "<path fill=\"none\" stroke=\"black\" d=\"M68,-263.67C68,-257.99 68,-251.55 68,-245.33\"/>\n",
       "<polygon fill=\"black\" stroke=\"black\" points=\"71.5,-245.23 68,-235.23 64.5,-245.23 71.5,-245.23\"/>\n",
       "</g>\n",
       "<!-- processing -->\n",
       "<g id=\"node4\" class=\"node\">\n",
       "<title>processing</title>\n",
       "<path fill=\"#b4d8e4\" stroke=\"black\" d=\"M105,-103C105,-103 31,-103 31,-103 25,-103 19,-97 19,-91 19,-91 19,-78 19,-78 19,-72 25,-66 31,-66 31,-66 105,-66 105,-66 111,-66 117,-72 117,-78 117,-78 117,-91 117,-91 117,-97 111,-103 105,-103\"/>\n",
       "<text text-anchor=\"middle\" x=\"68\" y=\"-80.8\" font-family=\"Helvetica,sans-Serif\" font-size=\"14.00\">processing</text>\n",
       "</g>\n",
       "<!-- validation&#45;&gt;processing -->\n",
       "<g id=\"edge3\" class=\"edge\">\n",
       "<title>validation&#45;&gt;processing</title>\n",
       "<path fill=\"none\" stroke=\"black\" d=\"M68,-131.67C68,-125.99 68,-119.55 68,-113.33\"/>\n",
       "<polygon fill=\"black\" stroke=\"black\" points=\"71.5,-113.23 68,-103.23 64.5,-113.23 71.5,-113.23\"/>\n",
       "</g>\n",
       "<!-- indexing -->\n",
       "<g id=\"node5\" class=\"node\">\n",
       "<title>indexing</title>\n",
       "<path fill=\"#b4d8e4\" stroke=\"black\" d=\"M97.5,-37C97.5,-37 38.5,-37 38.5,-37 32.5,-37 26.5,-31 26.5,-25 26.5,-25 26.5,-12 26.5,-12 26.5,-6 32.5,0 38.5,0 38.5,0 97.5,0 97.5,0 103.5,0 109.5,-6 109.5,-12 109.5,-12 109.5,-25 109.5,-25 109.5,-31 103.5,-37 97.5,-37\"/>\n",
       "<text text-anchor=\"middle\" x=\"68\" y=\"-14.8\" font-family=\"Helvetica,sans-Serif\" font-size=\"14.00\">indexing</text>\n",
       "</g>\n",
       "<!-- processing&#45;&gt;indexing -->\n",
       "<g id=\"edge4\" class=\"edge\">\n",
       "<title>processing&#45;&gt;indexing</title>\n",
       "<path fill=\"none\" stroke=\"black\" d=\"M68,-65.67C68,-59.99 68,-53.55 68,-47.33\"/>\n",
       "<polygon fill=\"black\" stroke=\"black\" points=\"71.5,-47.23 68,-37.23 64.5,-47.23 71.5,-47.23\"/>\n",
       "</g>\n",
       "</g>\n",
       "</svg>\n"
      ],
      "text/plain": [
       "<burr.core.application.Application at 0x7fef7862c680>"
      ]
     },
     "execution_count": 4,
     "metadata": {},
     "output_type": "execute_result"
    }
   ],
   "source": [
    "pipeline = ingestion.build_ingestion_workflow(\n",
    "    storage_dir = \"./+storage\",\n",
    "    db_path = \"./+ragnostic_db.db\",\n",
    "    max_file_size = 100 * 1024 * 1024,  # 100MB\n",
    "    text_preview_chars = 1000\n",
    ")\n",
    "pipeline"
   ]
  },
  {
   "cell_type": "code",
   "execution_count": 23,
   "id": "706f85bd-23c1-4c59-9afc-c1eabff0d0c9",
   "metadata": {},
   "outputs": [
    {
     "data": {
      "text/plain": [
       "['__SEQUENCE_ID', 'monitor_result', 'error', '__PRIOR_STEP']"
      ]
     },
     "metadata": {},
     "output_type": "display_data"
    },
    {
     "data": {
      "text/plain": [
       "MonitorResult(status=<MonitorStatus.MONITORING: 'monitoring'>, files=[PosixPath('/home/nicholasgrundl/projects/ragnostic/notebooks/ingest/REPORT_2003_OptimizePowerConsumptionInAerobicFermenters.pdf'), PosixPath('/home/nicholasgrundl/projects/ragnostic/notebooks/ingest/JOURNAL_2017_AerationCostsInStirredTankAndBubbleColumnBioreactors.pdf')], error_message=None)"
      ]
     },
     "execution_count": 23,
     "metadata": {},
     "output_type": "execute_result"
    }
   ],
   "source": [
    "# Run time parameters\n",
    "ingest_dir = \"./+ingest\"\n",
    "\n",
    "# Run step by step\n",
    "*_, state = pipeline.run(halt_after=[\"monitor\"], inputs={\"ingest_dir\": ingest_dir})\n",
    "display(list(state.keys()))\n",
    "state['monitor_result']"
   ]
  },
  {
   "cell_type": "code",
   "execution_count": 24,
   "id": "7fa84e1d-950a-48cf-a3ad-f5a8f037dc35",
   "metadata": {},
   "outputs": [
    {
     "data": {
      "text/plain": [
       "['__SEQUENCE_ID',\n",
       " 'monitor_result',\n",
       " 'error',\n",
       " '__PRIOR_STEP',\n",
       " 'validation_result']"
      ]
     },
     "metadata": {},
     "output_type": "display_data"
    },
    {
     "data": {
      "text/plain": [
       "BatchValidationResult(valid_files=[ValidationResult(filepath=PosixPath('/home/nicholasgrundl/projects/ragnostic/notebooks/ingest/JOURNAL_2017_AerationCostsInStirredTankAndBubbleColumnBioreactors.pdf'), is_valid=True, file_hash='f143e12292f0b459cd8759b41e52756d4fcf64cc9014ced662e177f196288b4a', mime_type='application/pdf', file_size_bytes=1443939, check_failures=[])], invalid_files=[ValidationResult(filepath=PosixPath('/home/nicholasgrundl/projects/ragnostic/notebooks/ingest/REPORT_2003_OptimizePowerConsumptionInAerobicFermenters.pdf'), is_valid=False, file_hash=None, mime_type=None, file_size_bytes=None, check_failures=[ValidationCheckFailure(filepath=PosixPath('/home/nicholasgrundl/projects/ragnostic/notebooks/ingest/REPORT_2003_OptimizePowerConsumptionInAerobicFermenters.pdf'), check_type=<ValidationCheckType.DUPLICATE_HASH: 'duplicate_hash'>, message='Document with same hash already exists', details={'existing_doc_id': 'DOC_jx8vvul2fv35'})])])"
      ]
     },
     "execution_count": 24,
     "metadata": {},
     "output_type": "execute_result"
    }
   ],
   "source": [
    "# Run step by step\n",
    "*_, state = pipeline.run(halt_after=[\"validation\"])\n",
    "display(list(state.keys()))\n",
    "state['validation_result']"
   ]
  },
  {
   "cell_type": "code",
   "execution_count": 25,
   "id": "92fe1f46-fc5e-4b06-bf93-268907b70bd4",
   "metadata": {},
   "outputs": [
    {
     "data": {
      "text/plain": [
       "['__SEQUENCE_ID',\n",
       " 'monitor_result',\n",
       " 'error',\n",
       " '__PRIOR_STEP',\n",
       " 'validation_result',\n",
       " 'processing_result']"
      ]
     },
     "metadata": {},
     "output_type": "display_data"
    },
    {
     "data": {
      "text/plain": [
       "BatchProcessingResult(successful_docs=[ProcessingResult(doc_id='DOC_4v6yzjjovrv0', original_path=PosixPath('/home/nicholasgrundl/projects/ragnostic/notebooks/ingest/JOURNAL_2017_AerationCostsInStirredTankAndBubbleColumnBioreactors.pdf'), storage_path=PosixPath('storage/DOC_4v6yzjjovrv0.pdf'), status=<ProcessingStatus.SUCCESS: 'success'>, error_message=None, error_code=None)], failed_docs=[])"
      ]
     },
     "execution_count": 25,
     "metadata": {},
     "output_type": "execute_result"
    }
   ],
   "source": [
    "# Run step by step\n",
    "*_, state = pipeline.run(halt_after=[\"processing\"])\n",
    "display(list(state.keys()))\n",
    "state['processing_result']"
   ]
  },
  {
   "cell_type": "code",
   "execution_count": 26,
   "id": "da8978a9-1b34-44c6-87c3-5edbdbb09896",
   "metadata": {},
   "outputs": [
    {
     "name": "stdout",
     "output_type": "stream",
     "text": [
      "Processing storage/DOC_4v6yzjjovrv0.pdf...\n",
      "]========================================] (6/6)\n"
     ]
    },
    {
     "data": {
      "text/plain": [
       "['__SEQUENCE_ID',\n",
       " 'monitor_result',\n",
       " 'error',\n",
       " '__PRIOR_STEP',\n",
       " 'validation_result',\n",
       " 'processing_result',\n",
       " 'indexing_result']"
      ]
     },
     "metadata": {},
     "output_type": "display_data"
    },
    {
     "data": {
      "text/plain": [
       "BatchIndexingResult(successful_docs=[IndexingResult(doc_id='DOC_4v6yzjjovrv0', filepath=PosixPath('storage/DOC_4v6yzjjovrv0.pdf'), status=<IndexingStatus.SUCCESS: 'success'>, error_message=None, extracted_metadata=DocumentMetadataExtracted(title='Aeration Costs in Stirred-Tank and Bubble Column Bioreactors', authors=['D. Humbird', 'R. Davis', 'J.D. McMillan'], creation_date=datetime.datetime(2025, 2, 3, 11, 18, 50, 251743), page_count=6, language=None, text_preview='Contents lists available at ScienceDirect\\n\\n# Biochemical Engineering Journal\\n\\njournal homepage: www.elsevier.com\\n\\n\\n#### Regular article\\n\\n## Aeration costs in stirred-tank and bubble column bioreactors\\n\\n### D. Humbird[a], R. Davis[b,][ ⁎], J.D. McMillan[b]\\n\\na DWH Process Consulting LLC, Centennial, CO, United States\\nb National Renewable Energy Laboratory, National Bioenergy Center, Golden, CO, United States\\n\\n\\nA R T I C L E I N F O\\n\\n_Article history:_\\nReceived 21 February 2017\\nReceived in revised form 24 July 2017\\nAccepted 6 August 2017\\nAvailable online xxx\\n\\n_Keywords:_\\nAerobic fermentation\\nBioreactor design\\nCapital cost\\nGas-liquid oxygen mass transfer\\n\\n**1. Introduction**\\n\\n\\nA B S T R A C T\\n\\nTo overcome knowledge gaps in the economics of large-scale aeration for production of commodity products,\\nAspen Plus is used to simulate steady-state oxygen delivery in both stirred-tank and bubble column bioreactors, using published engineering correlations for oxygen mass transfer as a function of'))], failed_docs=[])"
      ]
     },
     "execution_count": 26,
     "metadata": {},
     "output_type": "execute_result"
    }
   ],
   "source": [
    "# Run step by step\n",
    "*_, state = pipeline.run(halt_after=[\"indexing\"])\n",
    "display(list(state.keys()))\n",
    "state['indexing_result']"
   ]
  },
  {
   "cell_type": "code",
   "execution_count": null,
   "id": "1bb5f906-5ddc-45ab-90dd-5274874febb3",
   "metadata": {},
   "outputs": [],
   "source": []
  },
  {
   "cell_type": "code",
   "execution_count": null,
   "id": "15cb5acf-0293-4318-9c46-c25d4f47b1a5",
   "metadata": {},
   "outputs": [],
   "source": []
  },
  {
   "cell_type": "markdown",
   "id": "70a40d9e-2d89-4b2b-a25a-0d4eceb7d896",
   "metadata": {},
   "source": [
    "# Processing Flow DAG\n",
    "\n",
    "The Processing covers metadata and document text content to the database.\n",
    "\n",
    "At this level we will include:\n",
    "- document_router: send to PDF or website processer\n",
    "- text_extraction: extract text from pdf\n",
    "- image_extraction: extract images and store in database\n",
    "- table_extraction: extract tables and store in database\n",
    "- metadata_extraction: update metadata\n"
   ]
  },
  {
   "cell_type": "code",
   "execution_count": 13,
   "id": "e16fc58b-78fa-4fea-b5ed-d5d901f215f0",
   "metadata": {},
   "outputs": [
    {
     "data": {
      "image/svg+xml": [
       "<?xml version=\"1.0\" encoding=\"UTF-8\" standalone=\"no\"?>\n",
       "<!DOCTYPE svg PUBLIC \"-//W3C//DTD SVG 1.1//EN\"\n",
       " \"http://www.w3.org/Graphics/SVG/1.1/DTD/svg11.dtd\">\n",
       "<!-- Generated by graphviz version 2.50.0 (0)\n",
       " -->\n",
       "<!-- Pages: 1 -->\n",
       "<svg width=\"499pt\" height=\"399pt\"\n",
       " viewBox=\"0.00 0.00 498.50 399.00\" xmlns=\"http://www.w3.org/2000/svg\" xmlns:xlink=\"http://www.w3.org/1999/xlink\">\n",
       "<g id=\"graph0\" class=\"graph\" transform=\"scale(1 1) rotate(0) translate(4 395)\">\n",
       "<polygon fill=\"white\" stroke=\"transparent\" points=\"-4,4 -4,-395 494.5,-395 494.5,4 -4,4\"/>\n",
       "<!-- route -->\n",
       "<g id=\"node1\" class=\"node\">\n",
       "<title>route</title>\n",
       "<path fill=\"#b4d8e4\" stroke=\"black\" d=\"M204.5,-323C204.5,-323 174.5,-323 174.5,-323 168.5,-323 162.5,-317 162.5,-311 162.5,-311 162.5,-298 162.5,-298 162.5,-292 168.5,-286 174.5,-286 174.5,-286 204.5,-286 204.5,-286 210.5,-286 216.5,-292 216.5,-298 216.5,-298 216.5,-311 216.5,-311 216.5,-317 210.5,-323 204.5,-323\"/>\n",
       "<text text-anchor=\"middle\" x=\"189.5\" y=\"-300.8\" font-family=\"Helvetica,sans-Serif\" font-size=\"14.00\">route</text>\n",
       "</g>\n",
       "<!-- pdf_text -->\n",
       "<g id=\"node4\" class=\"node\">\n",
       "<title>pdf_text</title>\n",
       "<path fill=\"#b4d8e4\" stroke=\"black\" d=\"M374,-241C374,-241 327,-241 327,-241 321,-241 315,-235 315,-229 315,-229 315,-216 315,-216 315,-210 321,-204 327,-204 327,-204 374,-204 374,-204 380,-204 386,-210 386,-216 386,-216 386,-229 386,-229 386,-235 380,-241 374,-241\"/>\n",
       "<text text-anchor=\"middle\" x=\"350.5\" y=\"-218.8\" font-family=\"Helvetica,sans-Serif\" font-size=\"14.00\">pdf_text</text>\n",
       "</g>\n",
       "<!-- route&#45;&gt;pdf_text -->\n",
       "<g id=\"edge8\" class=\"edge\">\n",
       "<title>route&#45;&gt;pdf_text</title>\n",
       "<path fill=\"none\" stroke=\"black\" stroke-dasharray=\"5,2\" d=\"M210.61,-285.79C224.74,-274.2 242.2,-260.4 250.5,-256 267.35,-247.06 287.1,-240 304.59,-234.78\"/>\n",
       "<polygon fill=\"black\" stroke=\"black\" points=\"305.93,-238.04 314.58,-231.92 304,-231.31 305.93,-238.04\"/>\n",
       "<text text-anchor=\"middle\" x=\"306.5\" y=\"-259.8\" font-family=\"Times,serif\" font-size=\"14.00\">document_kind=pdf</text>\n",
       "</g>\n",
       "<!-- wiki_extraction -->\n",
       "<g id=\"node8\" class=\"node\">\n",
       "<title>wiki_extraction</title>\n",
       "<path fill=\"#b4d8e4\" stroke=\"black\" d=\"M151,-241C151,-241 64,-241 64,-241 58,-241 52,-235 52,-229 52,-229 52,-216 52,-216 52,-210 58,-204 64,-204 64,-204 151,-204 151,-204 157,-204 163,-210 163,-216 163,-216 163,-229 163,-229 163,-235 157,-241 151,-241\"/>\n",
       "<text text-anchor=\"middle\" x=\"107.5\" y=\"-218.8\" font-family=\"Helvetica,sans-Serif\" font-size=\"14.00\">wiki_extraction</text>\n",
       "</g>\n",
       "<!-- route&#45;&gt;wiki_extraction -->\n",
       "<g id=\"edge12\" class=\"edge\">\n",
       "<title>route&#45;&gt;wiki_extraction</title>\n",
       "<path fill=\"none\" stroke=\"black\" stroke-dasharray=\"5,2\" d=\"M162.11,-300.27C143.66,-296.53 120.57,-288.45 108.5,-271 104.62,-265.39 103.14,-258.45 102.92,-251.62\"/>\n",
       "<polygon fill=\"black\" stroke=\"black\" points=\"106.44,-251.36 103.44,-241.19 99.45,-251.01 106.44,-251.36\"/>\n",
       "<text text-anchor=\"middle\" x=\"168\" y=\"-259.8\" font-family=\"Times,serif\" font-size=\"14.00\">~document_kind=pdf</text>\n",
       "</g>\n",
       "<!-- input__doc_id -->\n",
       "<g id=\"node2\" class=\"node\">\n",
       "<title>input__doc_id</title>\n",
       "<polygon fill=\"none\" stroke=\"black\" stroke-dasharray=\"5,2\" points=\"99,-391 0,-391 0,-354 99,-354 99,-391\"/>\n",
       "<text text-anchor=\"middle\" x=\"49.5\" y=\"-368.8\" font-family=\"Helvetica,sans-Serif\" font-size=\"14.00\">input: doc_id</text>\n",
       "</g>\n",
       "<!-- input__doc_id&#45;&gt;route -->\n",
       "<g id=\"edge1\" class=\"edge\">\n",
       "<title>input__doc_id&#45;&gt;route</title>\n",
       "<path fill=\"none\" stroke=\"black\" d=\"M86.65,-353.99C107.21,-344.29 132.66,-332.3 153.1,-322.66\"/>\n",
       "<polygon fill=\"black\" stroke=\"black\" points=\"154.84,-325.71 162.39,-318.28 151.86,-319.38 154.84,-325.71\"/>\n",
       "</g>\n",
       "<!-- input__db_connection -->\n",
       "<g id=\"node3\" class=\"node\">\n",
       "<title>input__db_connection</title>\n",
       "<polygon fill=\"none\" stroke=\"black\" stroke-dasharray=\"5,2\" points=\"469,-391 322,-391 322,-354 469,-354 469,-391\"/>\n",
       "<text text-anchor=\"middle\" x=\"395.5\" y=\"-368.8\" font-family=\"Helvetica,sans-Serif\" font-size=\"14.00\">input: db_connection</text>\n",
       "</g>\n",
       "<!-- input__db_connection&#45;&gt;route -->\n",
       "<g id=\"edge2\" class=\"edge\">\n",
       "<title>input__db_connection&#45;&gt;route</title>\n",
       "<path fill=\"none\" stroke=\"black\" d=\"M340.84,-353.99C304.7,-342.41 258.29,-327.54 226.45,-317.34\"/>\n",
       "<polygon fill=\"black\" stroke=\"black\" points=\"227.25,-313.92 216.66,-314.2 225.11,-320.58 227.25,-313.92\"/>\n",
       "</g>\n",
       "<!-- input__db_connection&#45;&gt;pdf_text -->\n",
       "<g id=\"edge3\" class=\"edge\">\n",
       "<title>input__db_connection&#45;&gt;pdf_text</title>\n",
       "<path fill=\"none\" stroke=\"black\" d=\"M390.88,-353.76C384.84,-330.98 373.71,-290.29 362.5,-256 361.96,-254.35 361.39,-252.66 360.8,-250.95\"/>\n",
       "<polygon fill=\"black\" stroke=\"black\" points=\"364.01,-249.53 357.35,-241.3 357.42,-251.89 364.01,-249.53\"/>\n",
       "</g>\n",
       "<!-- pdf_image -->\n",
       "<g id=\"node5\" class=\"node\">\n",
       "<title>pdf_image</title>\n",
       "<path fill=\"#b4d8e4\" stroke=\"black\" d=\"M412.5,-173C412.5,-173 350.5,-173 350.5,-173 344.5,-173 338.5,-167 338.5,-161 338.5,-161 338.5,-148 338.5,-148 338.5,-142 344.5,-136 350.5,-136 350.5,-136 412.5,-136 412.5,-136 418.5,-136 424.5,-142 424.5,-148 424.5,-148 424.5,-161 424.5,-161 424.5,-167 418.5,-173 412.5,-173\"/>\n",
       "<text text-anchor=\"middle\" x=\"381.5\" y=\"-150.8\" font-family=\"Helvetica,sans-Serif\" font-size=\"14.00\">pdf_image</text>\n",
       "</g>\n",
       "<!-- input__db_connection&#45;&gt;pdf_image -->\n",
       "<g id=\"edge4\" class=\"edge\">\n",
       "<title>input__db_connection&#45;&gt;pdf_image</title>\n",
       "<path fill=\"none\" stroke=\"black\" d=\"M399.26,-353.84C400.04,-348.75 400.6,-343.17 400.5,-338 399.39,-278.41 404.95,-262.84 395.5,-204 394.41,-197.19 392.66,-189.97 390.77,-183.25\"/>\n",
       "<polygon fill=\"black\" stroke=\"black\" points=\"393.98,-181.79 387.74,-173.23 387.28,-183.81 393.98,-181.79\"/>\n",
       "</g>\n",
       "<!-- pdf_table -->\n",
       "<g id=\"node6\" class=\"node\">\n",
       "<title>pdf_table</title>\n",
       "<path fill=\"#b4d8e4\" stroke=\"black\" d=\"M439.5,-105C439.5,-105 385.5,-105 385.5,-105 379.5,-105 373.5,-99 373.5,-93 373.5,-93 373.5,-80 373.5,-80 373.5,-74 379.5,-68 385.5,-68 385.5,-68 439.5,-68 439.5,-68 445.5,-68 451.5,-74 451.5,-80 451.5,-80 451.5,-93 451.5,-93 451.5,-99 445.5,-105 439.5,-105\"/>\n",
       "<text text-anchor=\"middle\" x=\"412.5\" y=\"-82.8\" font-family=\"Helvetica,sans-Serif\" font-size=\"14.00\">pdf_table</text>\n",
       "</g>\n",
       "<!-- input__db_connection&#45;&gt;pdf_table -->\n",
       "<g id=\"edge5\" class=\"edge\">\n",
       "<title>input__db_connection&#45;&gt;pdf_table</title>\n",
       "<path fill=\"none\" stroke=\"black\" d=\"M423,-353.85C437.57,-342.15 452.5,-325.33 452.5,-305.5 452.5,-305.5 452.5,-305.5 452.5,-153.5 452.5,-138.73 445.08,-124.44 436.64,-112.96\"/>\n",
       "<polygon fill=\"black\" stroke=\"black\" points=\"439.36,-110.77 430.39,-105.13 433.89,-115.13 439.36,-110.77\"/>\n",
       "</g>\n",
       "<!-- pdf_metadata -->\n",
       "<g id=\"node7\" class=\"node\">\n",
       "<title>pdf_metadata</title>\n",
       "<path fill=\"#b4d8e4\" stroke=\"black\" d=\"M453.5,-37C453.5,-37 371.5,-37 371.5,-37 365.5,-37 359.5,-31 359.5,-25 359.5,-25 359.5,-12 359.5,-12 359.5,-6 365.5,0 371.5,0 371.5,0 453.5,0 453.5,0 459.5,0 465.5,-6 465.5,-12 465.5,-12 465.5,-25 465.5,-25 465.5,-31 459.5,-37 453.5,-37\"/>\n",
       "<text text-anchor=\"middle\" x=\"412.5\" y=\"-14.8\" font-family=\"Helvetica,sans-Serif\" font-size=\"14.00\">pdf_metadata</text>\n",
       "</g>\n",
       "<!-- input__db_connection&#45;&gt;pdf_metadata -->\n",
       "<g id=\"edge6\" class=\"edge\">\n",
       "<title>input__db_connection&#45;&gt;pdf_metadata</title>\n",
       "<path fill=\"none\" stroke=\"black\" d=\"M451.31,-353.97C471.99,-343.71 490.5,-328.19 490.5,-305.5 490.5,-305.5 490.5,-305.5 490.5,-85.5 490.5,-67.24 477.89,-52.99 462.81,-42.49\"/>\n",
       "<polygon fill=\"black\" stroke=\"black\" points=\"464.56,-39.45 454.24,-37.03 460.8,-45.35 464.56,-39.45\"/>\n",
       "</g>\n",
       "<!-- input__db_connection&#45;&gt;wiki_extraction -->\n",
       "<g id=\"edge7\" class=\"edge\">\n",
       "<title>input__db_connection&#45;&gt;wiki_extraction</title>\n",
       "<path fill=\"none\" stroke=\"black\" d=\"M321.85,-367.38C272,-362.11 205.92,-350.13 153.5,-323 123.62,-307.54 111.81,-301.9 98.5,-271 95.84,-264.83 95.73,-257.87 96.82,-251.22\"/>\n",
       "<polygon fill=\"black\" stroke=\"black\" points=\"100.3,-251.74 99.35,-241.19 93.51,-250.03 100.3,-251.74\"/>\n",
       "</g>\n",
       "<!-- pdf_text&#45;&gt;pdf_image -->\n",
       "<g id=\"edge9\" class=\"edge\">\n",
       "<title>pdf_text&#45;&gt;pdf_image</title>\n",
       "<path fill=\"none\" stroke=\"black\" d=\"M358.81,-203.81C361.87,-197.3 365.4,-189.77 368.76,-182.62\"/>\n",
       "<polygon fill=\"black\" stroke=\"black\" points=\"372.09,-183.77 373.17,-173.24 365.75,-180.8 372.09,-183.77\"/>\n",
       "</g>\n",
       "<!-- pdf_image&#45;&gt;pdf_table -->\n",
       "<g id=\"edge10\" class=\"edge\">\n",
       "<title>pdf_image&#45;&gt;pdf_table</title>\n",
       "<path fill=\"none\" stroke=\"black\" d=\"M389.81,-135.81C392.87,-129.3 396.4,-121.77 399.76,-114.62\"/>\n",
       "<polygon fill=\"black\" stroke=\"black\" points=\"403.09,-115.77 404.17,-105.24 396.75,-112.8 403.09,-115.77\"/>\n",
       "</g>\n",
       "<!-- pdf_table&#45;&gt;pdf_metadata -->\n",
       "<g id=\"edge11\" class=\"edge\">\n",
       "<title>pdf_table&#45;&gt;pdf_metadata</title>\n",
       "<path fill=\"none\" stroke=\"black\" d=\"M412.5,-67.81C412.5,-61.6 412.5,-54.45 412.5,-47.6\"/>\n",
       "<polygon fill=\"black\" stroke=\"black\" points=\"416,-47.24 412.5,-37.24 409,-47.24 416,-47.24\"/>\n",
       "</g>\n",
       "<!-- wiki_extraction&#45;&gt;pdf_metadata -->\n",
       "<g id=\"edge13\" class=\"edge\">\n",
       "<title>wiki_extraction&#45;&gt;pdf_metadata</title>\n",
       "<path fill=\"none\" stroke=\"black\" d=\"M134.03,-203.93C189.01,-167.52 315.38,-83.82 377.18,-42.89\"/>\n",
       "<polygon fill=\"black\" stroke=\"black\" points=\"379.41,-45.62 385.81,-37.18 375.54,-39.78 379.41,-45.62\"/>\n",
       "</g>\n",
       "</g>\n",
       "</svg>\n"
      ],
      "text/plain": [
       "<burr.core.application.Application at 0x12c7f3290>"
      ]
     },
     "execution_count": 13,
     "metadata": {},
     "output_type": "execute_result"
    }
   ],
   "source": [
    "import pathlib\n",
    "from burr.core import State, action, ApplicationBuilder\n",
    "from burr.core import when\n",
    "\n",
    "from ragnostic import utils\n",
    "\n",
    "@action(reads=[], writes=[\"document_kind\"])\n",
    "def document_router(state: State, doc_id: str, db_connection) -> State:\n",
    "    \"\"\"Determine how to process the doc\"\"\"\n",
    "\n",
    "    # Determine how to process the doc id based on the library entry\n",
    "    # - Is it a PDF or a HTML?\n",
    "    # - has it already been processed before?\n",
    "\n",
    "    #Design Choices:\n",
    "    # - should we load the document here or later?\n",
    "    # - if loaded should we store it in the state as a python object?\n",
    "    return state.update(document_kind='pdf')\n",
    "\n",
    "@action(reads=[], writes=[])\n",
    "def text_extraction(state: State, db_connection) -> State:\n",
    "    \"\"\"extract text\"\"\"\n",
    "    # Extract text from pdf\n",
    "    # - use the docling parser\n",
    "    # - grab the raw text as is initially\n",
    "\n",
    "    # Design Choices:\n",
    "    # - should we store the docling parsed object in state and run various extraction steps on it?\n",
    "    return state\n",
    "\n",
    "@action(reads=[], writes=[])\n",
    "def image_extraction(state: State, db_connection) -> State:\n",
    "    \"\"\"extract image\"\"\"\n",
    "\n",
    "    # Extract and add images to database\n",
    "    # - take docling object and put images with their metadata in the database\n",
    "    \n",
    "    # Design Choices:\n",
    "    # - what inputs do we need? the docling objkect? the doc id and load it from database?\n",
    "    \n",
    "    return state\n",
    "\n",
    "@action(reads=[], writes=[])\n",
    "def table_extraction(state: State, db_connection) -> State:\n",
    "    \"\"\"extract table\"\"\"\n",
    "    # Extract and add tables to database\n",
    "    # - take docling object and put tables with their metadata in the database\n",
    "    \n",
    "    # Design Choices:\n",
    "    # - what inputs do we need? the docling object? the doc id and load it from database?\n",
    "    \n",
    "    return state\n",
    "\n",
    "@action(reads=[], writes=[])\n",
    "def wikipedia_extraction(state: State, db_connection) -> State:\n",
    "    \"\"\"extract wikipedia\"\"\"\n",
    "\n",
    "    # Design choices\n",
    "    # Should we grab the HTML and store it then parse?\n",
    "    # - should we just use the wikipedia API?\n",
    "    # - should we do an image step later as well? \n",
    "    # - how would we identify images?\n",
    "    return state\n",
    "\n",
    "@action(reads=[], writes=[])\n",
    "def metadata_extraction(state: State, db_connection) -> State:\n",
    "    \"\"\"extract table\"\"\"\n",
    "\n",
    "    # Compile the metadata based on the previous steps\n",
    "    # - does it have images, tables, etc?\n",
    "    # - how many pages, etc\n",
    "    # - status updates on the steps, flags, etc.\n",
    "    \n",
    "    return state\n",
    "    \n",
    "# Build and visualize graph/logic\n",
    "(\n",
    "    ApplicationBuilder()\n",
    "    .with_actions(\n",
    "        route=document_router, \n",
    "        pdf_text=text_extraction, \n",
    "        pdf_image=image_extraction, \n",
    "        pdf_table=table_extraction,\n",
    "        pdf_metadata=metadata_extraction,\n",
    "        wiki_extraction=wikipedia_extraction,\n",
    "    )\n",
    "    .with_transitions(\n",
    "        (\"route\", \"pdf_text\", when(document_kind='pdf')),\n",
    "        (\"pdf_text\", \"pdf_image\"),\n",
    "        (\"pdf_image\", \"pdf_table\"),\n",
    "        (\"pdf_table\", \"pdf_metadata\"),\n",
    "        (\"route\", \"wiki_extraction\", ~when(document_kind='pdf')),\n",
    "        (\"wiki_extraction\", \"pdf_metadata\"),\n",
    "    )\n",
    "    .with_entrypoint(\"route\")\n",
    "    .build()\n",
    ")"
   ]
  },
  {
   "cell_type": "code",
   "execution_count": null,
   "id": "b7be9aff-6d63-430e-ba4a-11610fb93951",
   "metadata": {},
   "outputs": [],
   "source": []
  }
 ],
 "metadata": {
  "kernelspec": {
   "display_name": "Python 3 (ipykernel)",
   "language": "python",
   "name": "python3"
  },
  "language_info": {
   "codemirror_mode": {
    "name": "ipython",
    "version": 3
   },
   "file_extension": ".py",
   "mimetype": "text/x-python",
   "name": "python",
   "nbconvert_exporter": "python",
   "pygments_lexer": "ipython3",
   "version": "3.12.8"
  }
 },
 "nbformat": 4,
 "nbformat_minor": 5
}

{
 "cells": [
  {
   "cell_type": "code",
   "execution_count": 24,
   "id": "ef9c48d5-abdf-420b-afe0-f9548012b891",
   "metadata": {},
   "outputs": [
    {
     "data": {
      "text/plain": [
       "<module 'ragnostic.file_tree_to_markdown' from '/home/nicholasgrundl/projects/ragnostic/src/ragnostic/file_tree_to_markdown.py'>"
      ]
     },
     "execution_count": 24,
     "metadata": {},
     "output_type": "execute_result"
    }
   ],
   "source": [
    "import importlib\n",
    "from ragnostic import file_tree, file_tree_to_markdown\n",
    "\n",
    "importlib.reload(file_tree)\n",
    "importlib.reload(file_tree_to_markdown)"
   ]
  },
  {
   "cell_type": "code",
   "execution_count": 25,
   "id": "572bbfde-568b-4d3b-a54b-6e328c5d8ea5",
   "metadata": {},
   "outputs": [
    {
     "name": "stdout",
     "output_type": "stream",
     "text": [
      "#!base_path=/home/nicholasgrundl/projects/ragnostic/src\n",
      "src\n",
      "└── ragnostic\n",
      "    ├── db\n",
      "    │   ├── __init__.py\n",
      "    │   ├── client.py\n",
      "    │   ├── models.py\n",
      "    │   └── schema.py\n",
      "    ├── ingestion\n",
      "    │   ├── validation\n",
      "    │   │   ├── __init__.py\n",
      "    │   │   ├── checks.py\n",
      "    │   │   ├── schema.py\n",
      "    │   │   └── validator.py\n",
      "    │   ├── __init__.py\n",
      "    │   ├── monitor.py\n",
      "    │   └── schema.py\n",
      "    ├── __init__.py\n",
      "    ├── dag_ingestion.py\n",
      "    ├── file_tree.py\n",
      "    ├── file_tree_to_markdown.py\n",
      "    └── utils.py\n"
     ]
    }
   ],
   "source": [
    "tree_text = file_tree.generate_file_tree(\n",
    "    directory= '../src/',\n",
    "    level = 10,  # Increased default depth\n",
    "    exclude_suffixes = ['.pyc'],\n",
    "    exclude_filenames = ['__pycache__'],\n",
    "    include_base_path = True\n",
    ")\n",
    "print(tree_text)\n",
    "with open('test_tree.md','w') as f:\n",
    "    f.write(tree_text)\n"
   ]
  },
  {
   "cell_type": "code",
   "execution_count": 26,
   "id": "67d922f7-d9ea-4cfe-ad61-ac57f87902c0",
   "metadata": {},
   "outputs": [
    {
     "name": "stdout",
     "output_type": "stream",
     "text": [
      "\n",
      "=================\n",
      "/home/nicholasgrundl/projects/ragnostic/src\n",
      "ragnostic/db/__init__.py\n",
      "ragnostic/db/client.py\n",
      "ragnostic/db/models.py\n",
      "ragnostic/db/schema.py\n",
      "ingestion/validation/__init__.py\n",
      "ingestion/validation/checks.py\n",
      "ingestion/validation/schema.py\n",
      "ingestion/validation/validator.py\n",
      "ingestion/__init__.py\n",
      "ingestion/monitor.py\n",
      "ingestion/schema.py\n",
      "__init__.py\n",
      "dag_ingestion.py\n",
      "file_tree.py\n",
      "file_tree_to_markdown.py\n",
      "utils.py\n",
      "\n",
      "=================\n"
     ]
    }
   ],
   "source": [
    "print(\"\\n=================\")\n",
    "base_path, paths = file_tree_to_markdown.parse_tree_file(tree_file='test_tree.md')\n",
    "\n",
    "print(base_path)\n",
    "for p in paths:\n",
    "    print(p)\n",
    "\n",
    "print(\"\\n=================\")\n",
    "\n",
    "file_tree_to_markdown.generate_markdown(\n",
    "    tree_file='test_tree.md',\n",
    "    output_file='test_source.md',\n",
    "    exclude_suffixes= None,\n",
    "    exclude_filenames= None,\n",
    ")"
   ]
  },
  {
   "cell_type": "code",
   "execution_count": null,
   "id": "e07ce469-f548-44bd-9f6c-6a273438e2ca",
   "metadata": {},
   "outputs": [],
   "source": []
  }
 ],
 "metadata": {
  "kernelspec": {
   "display_name": "Python 3 (ipykernel)",
   "language": "python",
   "name": "python3"
  },
  "language_info": {
   "codemirror_mode": {
    "name": "ipython",
    "version": 3
   },
   "file_extension": ".py",
   "mimetype": "text/x-python",
   "name": "python",
   "nbconvert_exporter": "python",
   "pygments_lexer": "ipython3",
   "version": "3.12.8"
  }
 },
 "nbformat": 4,
 "nbformat_minor": 5
}

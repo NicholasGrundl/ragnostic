{
 "cells": [
  {
   "cell_type": "code",
   "execution_count": 1,
   "id": "154e74f7-dda3-4928-a0b0-c0a23c1762f2",
   "metadata": {},
   "outputs": [],
   "source": [
    "import ragnostic"
   ]
  },
  {
   "cell_type": "code",
   "execution_count": null,
   "id": "72885106-da4d-4296-b1e3-56ed7172bfe1",
   "metadata": {},
   "outputs": [],
   "source": []
  }
 ],
 "metadata": {
  "kernelspec": {
   "display_name": "Python 3 (ipykernel)",
   "language": "python",
   "name": "python3"
  },
  "language_info": {
   "codemirror_mode": {
    "name": "ipython",
    "version": 3
   },
   "file_extension": ".py",
   "mimetype": "text/x-python",
   "name": "python",
   "nbconvert_exporter": "python",
   "pygments_lexer": "ipython3",
   "version": "3.10.16"
  }
 },
 "nbformat": 4,
 "nbformat_minor": 5
}

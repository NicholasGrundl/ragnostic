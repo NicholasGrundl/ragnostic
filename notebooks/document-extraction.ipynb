{
 "cells": [
  {
   "cell_type": "markdown",
   "id": "5c2a0bc5-abf0-4680-a7cb-306ef2f68502",
   "metadata": {},
   "source": [
    "# Goals\n",
    "\n",
    "This notebook will map pout the burr pipelines that we will use to do document ingestion"
   ]
  },
  {
   "cell_type": "markdown",
   "id": "a3bab379-9a89-4043-b158-44b61c13e604",
   "metadata": {},
   "source": [
    "## ENV Variables"
   ]
  },
  {
   "cell_type": "code",
   "execution_count": 1,
   "id": "447ddc83-337a-46fb-a852-be8ee373fa1a",
   "metadata": {},
   "outputs": [],
   "source": [
    "# set your OpenAI API key\n",
    "import os\n",
    "from dotenv import load_dotenv\n",
    "\n",
    "# Load environment variables from .env file\n",
    "load_dotenv()\n",
    "\n",
    "# Verify that the API key is loaded\n",
    "openai_api_key = os.getenv('OPENAI_API_KEY')\n",
    "anthropic_api_key = os.getenv('ANTHROPIC_API_KEY')"
   ]
  },
  {
   "cell_type": "markdown",
   "id": "3beb2c52-9120-464f-bbb0-3032415c391c",
   "metadata": {},
   "source": [
    "# Load Document"
   ]
  },
  {
   "cell_type": "markdown",
   "id": "00dd14af-2ae1-4a12-b6c4-fd0506ae5493",
   "metadata": {},
   "source": [
    "## Search in database"
   ]
  },
  {
   "cell_type": "code",
   "execution_count": 2,
   "id": "622e3a66-cbfc-41fe-801f-b19b35d17fe5",
   "metadata": {},
   "outputs": [
    {
     "name": "stdout",
     "output_type": "stream",
     "text": [
      "- filepath: +storage/DOC_6j6x8s3tefsa.pdf\n",
      "- metadata:\n",
      "{\n",
      "    \"doc_id\": \"DOC_6j6x8s3tefsa\",\n",
      "    \"title\": \"New Title\",\n",
      "    \"authors\": null,\n",
      "    \"creation_date\": \"2025-02-12T14:35:01.990123\",\n",
      "    \"page_count\": 4,\n",
      "    \"language\": null\n",
      "}\n",
      "- filepath: +storage/DOC_2gvizgy2glux.pdf\n",
      "- metadata:\n",
      "{\n",
      "    \"doc_id\": \"DOC_2gvizgy2glux\",\n",
      "    \"title\": \"\",\n",
      "    \"authors\": null,\n",
      "    \"creation_date\": \"2025-02-12T14:35:05.909033\",\n",
      "    \"page_count\": 5,\n",
      "    \"language\": null\n",
      "}\n",
      "- filepath: +storage/DOC_9ewgleyaiqku.pdf\n",
      "- metadata:\n",
      "{\n",
      "    \"doc_id\": \"DOC_9ewgleyaiqku\",\n",
      "    \"title\": \"Aeration Costs in Stirred-Tank and Bubble Column Bioreactors\",\n",
      "    \"authors\": [\n",
      "        \"D. Humbird\",\n",
      "        \"R. Davis\",\n",
      "        \"J.D. McMillan\"\n",
      "    ],\n",
      "    \"creation_date\": \"2025-02-12T14:35:10.286959\",\n",
      "    \"page_count\": 6,\n",
      "    \"language\": null\n",
      "}\n",
      "- filepath: +storage/DOC_shunfa5546zb.pdf\n",
      "- metadata:\n",
      "{\n",
      "    \"doc_id\": \"DOC_shunfa5546zb\",\n",
      "    \"title\": \"\",\n",
      "    \"authors\": null,\n",
      "    \"creation_date\": \"2025-02-12T14:35:48.010719\",\n",
      "    \"page_count\": 104,\n",
      "    \"language\": null\n",
      "}\n"
     ]
    }
   ],
   "source": [
    "from ragnostic import db\n",
    "db_path = '+ragnostic_db.db'\n",
    "db_url = db.create_sqlite_url(db_path)\n",
    "db_client = db.DatabaseClient(db_url)\n",
    "\n",
    "documents = db_client.get_documents()\n",
    "for document in documents:\n",
    "    doc_id = document.id\n",
    "    print(f\"- filepath: {document.raw_file_path}\")\n",
    "    metadata = db_client.get_metadata(doc_id=doc_id)\n",
    "    print(f\"- metadata:\")\n",
    "    print(metadata.model_dump_json(indent=4))"
   ]
  },
  {
   "cell_type": "markdown",
   "id": "80ebbab8-a63b-4484-9b4a-329f8fa033e7",
   "metadata": {},
   "source": [
    "## Load Document"
   ]
  },
  {
   "cell_type": "code",
   "execution_count": 3,
   "id": "8e4ebfd8-aad8-4f04-bcda-1f5c6c48d500",
   "metadata": {},
   "outputs": [
    {
     "name": "stdout",
     "output_type": "stream",
     "text": [
      "Document: DOC_6j6x8s3tefsa\n",
      "File path: +storage/DOC_6j6x8s3tefsa.pdf\n",
      "Metadata title: New Title\n"
     ]
    }
   ],
   "source": [
    "# Load document by ID\n",
    "# DOC_6j6x8s3tefsa: aeration article\n",
    "# DOC_2gvizgy2glux: mammalian cell article\n",
    "doc_id = \"DOC_6j6x8s3tefsa\"  # Replace with your doc_id\n",
    "document = db_client.get_document_by_id(doc_id)\n",
    "\n",
    "# Get metadata if needed\n",
    "metadata = db_client.get_metadata(doc_id)\n",
    "\n",
    "print(f\"Document: {document.id}\")\n",
    "print(f\"File path: {document.raw_file_path}\")\n",
    "print(f\"Metadata title: {metadata.title if metadata else 'No metadata'}\")"
   ]
  },
  {
   "cell_type": "markdown",
   "id": "52056ae0-5508-4a03-8054-47e100f72cb4",
   "metadata": {},
   "source": [
    "# Extraction Workflow"
   ]
  },
  {
   "cell_type": "code",
   "execution_count": 4,
   "id": "704a251d-81be-4b55-9601-18c3b74b06f4",
   "metadata": {},
   "outputs": [
    {
     "data": {
      "image/svg+xml": [
       "<?xml version=\"1.0\" encoding=\"UTF-8\" standalone=\"no\"?>\n",
       "<!DOCTYPE svg PUBLIC \"-//W3C//DTD SVG 1.1//EN\"\n",
       " \"http://www.w3.org/Graphics/SVG/1.1/DTD/svg11.dtd\">\n",
       "<!-- Generated by graphviz version 2.50.0 (0)\n",
       " -->\n",
       "<!-- Pages: 1 -->\n",
       "<svg width=\"432pt\" height=\"549pt\"\n",
       " viewBox=\"0.00 0.00 432.00 549.00\" xmlns=\"http://www.w3.org/2000/svg\" xmlns:xlink=\"http://www.w3.org/1999/xlink\">\n",
       "<g id=\"graph0\" class=\"graph\" transform=\"scale(1 1) rotate(0) translate(4 545)\">\n",
       "<polygon fill=\"white\" stroke=\"transparent\" points=\"-4,4 -4,-545 428,-545 428,4 -4,4\"/>\n",
       "<!-- converter_configure -->\n",
       "<g id=\"node1\" class=\"node\">\n",
       "<title>converter_configure</title>\n",
       "<path fill=\"#b4d8e4\" stroke=\"black\" d=\"M130,-541C130,-541 12,-541 12,-541 6,-541 0,-535 0,-529 0,-529 0,-516 0,-516 0,-510 6,-504 12,-504 12,-504 130,-504 130,-504 136,-504 142,-510 142,-516 142,-516 142,-529 142,-529 142,-535 136,-541 130,-541\"/>\n",
       "<text text-anchor=\"middle\" x=\"71\" y=\"-518.8\" font-family=\"Helvetica,sans-Serif\" font-size=\"14.00\">converter_configure</text>\n",
       "</g>\n",
       "<!-- converter_run -->\n",
       "<g id=\"node2\" class=\"node\">\n",
       "<title>converter_run</title>\n",
       "<path fill=\"#b4d8e4\" stroke=\"black\" d=\"M191,-473C191,-473 109,-473 109,-473 103,-473 97,-467 97,-461 97,-461 97,-448 97,-448 97,-442 103,-436 109,-436 109,-436 191,-436 191,-436 197,-436 203,-442 203,-448 203,-448 203,-461 203,-461 203,-467 197,-473 191,-473\"/>\n",
       "<text text-anchor=\"middle\" x=\"150\" y=\"-450.8\" font-family=\"Helvetica,sans-Serif\" font-size=\"14.00\">converter_run</text>\n",
       "</g>\n",
       "<!-- converter_configure&#45;&gt;converter_run -->\n",
       "<g id=\"edge2\" class=\"edge\">\n",
       "<title>converter_configure&#45;&gt;converter_run</title>\n",
       "<path fill=\"none\" stroke=\"black\" d=\"M92.17,-503.81C101.1,-496.36 111.63,-487.56 121.24,-479.53\"/>\n",
       "<polygon fill=\"black\" stroke=\"black\" points=\"123.61,-482.1 129.04,-473.01 119.13,-476.73 123.61,-482.1\"/>\n",
       "</g>\n",
       "<!-- converter_handle -->\n",
       "<g id=\"node4\" class=\"node\">\n",
       "<title>converter_handle</title>\n",
       "<path fill=\"#b4d8e4\" stroke=\"black\" d=\"M201.5,-405C201.5,-405 98.5,-405 98.5,-405 92.5,-405 86.5,-399 86.5,-393 86.5,-393 86.5,-380 86.5,-380 86.5,-374 92.5,-368 98.5,-368 98.5,-368 201.5,-368 201.5,-368 207.5,-368 213.5,-374 213.5,-380 213.5,-380 213.5,-393 213.5,-393 213.5,-399 207.5,-405 201.5,-405\"/>\n",
       "<text text-anchor=\"middle\" x=\"150\" y=\"-382.8\" font-family=\"Helvetica,sans-Serif\" font-size=\"14.00\">converter_handle</text>\n",
       "</g>\n",
       "<!-- converter_run&#45;&gt;converter_handle -->\n",
       "<g id=\"edge3\" class=\"edge\">\n",
       "<title>converter_run&#45;&gt;converter_handle</title>\n",
       "<path fill=\"none\" stroke=\"black\" d=\"M150,-435.81C150,-429.6 150,-422.45 150,-415.6\"/>\n",
       "<polygon fill=\"black\" stroke=\"black\" points=\"153.5,-415.24 150,-405.24 146.5,-415.24 153.5,-415.24\"/>\n",
       "</g>\n",
       "<!-- input__document_id -->\n",
       "<g id=\"node3\" class=\"node\">\n",
       "<title>input__document_id</title>\n",
       "<polygon fill=\"none\" stroke=\"black\" stroke-dasharray=\"5,2\" points=\"297.5,-541 160.5,-541 160.5,-504 297.5,-504 297.5,-541\"/>\n",
       "<text text-anchor=\"middle\" x=\"229\" y=\"-518.8\" font-family=\"Helvetica,sans-Serif\" font-size=\"14.00\">input: document_id</text>\n",
       "</g>\n",
       "<!-- input__document_id&#45;&gt;converter_run -->\n",
       "<g id=\"edge1\" class=\"edge\">\n",
       "<title>input__document_id&#45;&gt;converter_run</title>\n",
       "<path fill=\"none\" stroke=\"black\" d=\"M207.83,-503.81C198.9,-496.36 188.37,-487.56 178.76,-479.53\"/>\n",
       "<polygon fill=\"black\" stroke=\"black\" points=\"180.87,-476.73 170.96,-473.01 176.39,-482.1 180.87,-476.73\"/>\n",
       "</g>\n",
       "<!-- converter_fail -->\n",
       "<g id=\"node5\" class=\"node\">\n",
       "<title>converter_fail</title>\n",
       "<path fill=\"#b4d8e4\" stroke=\"black\" d=\"M117,-323C117,-323 37,-323 37,-323 31,-323 25,-317 25,-311 25,-311 25,-298 25,-298 25,-292 31,-286 37,-286 37,-286 117,-286 117,-286 123,-286 129,-292 129,-298 129,-298 129,-311 129,-311 129,-317 123,-323 117,-323\"/>\n",
       "<text text-anchor=\"middle\" x=\"77\" y=\"-300.8\" font-family=\"Helvetica,sans-Serif\" font-size=\"14.00\">converter_fail</text>\n",
       "</g>\n",
       "<!-- converter_handle&#45;&gt;converter_fail -->\n",
       "<g id=\"edge4\" class=\"edge\">\n",
       "<title>converter_handle&#45;&gt;converter_fail</title>\n",
       "<path fill=\"none\" stroke=\"black\" stroke-dasharray=\"5,2\" d=\"M93.2,-367.81C87.24,-363.82 81.93,-358.95 78,-353 74.24,-347.31 72.8,-340.34 72.58,-333.51\"/>\n",
       "<polygon fill=\"black\" stroke=\"black\" points=\"76.1,-333.25 73.08,-323.1 69.11,-332.92 76.1,-333.25\"/>\n",
       "<text text-anchor=\"middle\" x=\"140\" y=\"-341.8\" font-family=\"Times,serif\" font-size=\"14.00\">conversion_status=fail</text>\n",
       "</g>\n",
       "<!-- converter_success -->\n",
       "<g id=\"node6\" class=\"node\">\n",
       "<title>converter_success</title>\n",
       "<path fill=\"#b4d8e4\" stroke=\"black\" d=\"M279.5,-323C279.5,-323 168.5,-323 168.5,-323 162.5,-323 156.5,-317 156.5,-311 156.5,-311 156.5,-298 156.5,-298 156.5,-292 162.5,-286 168.5,-286 168.5,-286 279.5,-286 279.5,-286 285.5,-286 291.5,-292 291.5,-298 291.5,-298 291.5,-311 291.5,-311 291.5,-317 285.5,-323 279.5,-323\"/>\n",
       "<text text-anchor=\"middle\" x=\"224\" y=\"-300.8\" font-family=\"Helvetica,sans-Serif\" font-size=\"14.00\">converter_success</text>\n",
       "</g>\n",
       "<!-- converter_handle&#45;&gt;converter_success -->\n",
       "<g id=\"edge5\" class=\"edge\">\n",
       "<title>converter_handle&#45;&gt;converter_success</title>\n",
       "<path fill=\"none\" stroke=\"black\" stroke-dasharray=\"5,2\" d=\"M184.38,-367.99C190.77,-363.69 197,-358.67 202,-353 207.21,-347.1 211.41,-339.75 214.69,-332.61\"/>\n",
       "<polygon fill=\"black\" stroke=\"black\" points=\"218.01,-333.74 218.6,-323.16 211.54,-331.07 218.01,-333.74\"/>\n",
       "<text text-anchor=\"middle\" x=\"285\" y=\"-341.8\" font-family=\"Times,serif\" font-size=\"14.00\">conversion_status=success</text>\n",
       "</g>\n",
       "<!-- extraction_run -->\n",
       "<g id=\"node7\" class=\"node\">\n",
       "<title>extraction_run</title>\n",
       "<path fill=\"#b4d8e4\" stroke=\"black\" d=\"M266,-255C266,-255 182,-255 182,-255 176,-255 170,-249 170,-243 170,-243 170,-230 170,-230 170,-224 176,-218 182,-218 182,-218 266,-218 266,-218 272,-218 278,-224 278,-230 278,-230 278,-243 278,-243 278,-249 272,-255 266,-255\"/>\n",
       "<text text-anchor=\"middle\" x=\"224\" y=\"-232.8\" font-family=\"Helvetica,sans-Serif\" font-size=\"14.00\">extraction_run</text>\n",
       "</g>\n",
       "<!-- converter_success&#45;&gt;extraction_run -->\n",
       "<g id=\"edge6\" class=\"edge\">\n",
       "<title>converter_success&#45;&gt;extraction_run</title>\n",
       "<path fill=\"none\" stroke=\"black\" d=\"M224,-285.81C224,-279.6 224,-272.45 224,-265.6\"/>\n",
       "<polygon fill=\"black\" stroke=\"black\" points=\"227.5,-265.24 224,-255.24 220.5,-265.24 227.5,-265.24\"/>\n",
       "</g>\n",
       "<!-- extraction_store -->\n",
       "<g id=\"node8\" class=\"node\">\n",
       "<title>extraction_store</title>\n",
       "<path fill=\"#b4d8e4\" stroke=\"black\" d=\"M271.5,-187C271.5,-187 176.5,-187 176.5,-187 170.5,-187 164.5,-181 164.5,-175 164.5,-175 164.5,-162 164.5,-162 164.5,-156 170.5,-150 176.5,-150 176.5,-150 271.5,-150 271.5,-150 277.5,-150 283.5,-156 283.5,-162 283.5,-162 283.5,-175 283.5,-175 283.5,-181 277.5,-187 271.5,-187\"/>\n",
       "<text text-anchor=\"middle\" x=\"224\" y=\"-164.8\" font-family=\"Helvetica,sans-Serif\" font-size=\"14.00\">extraction_store</text>\n",
       "</g>\n",
       "<!-- extraction_run&#45;&gt;extraction_store -->\n",
       "<g id=\"edge7\" class=\"edge\">\n",
       "<title>extraction_run&#45;&gt;extraction_store</title>\n",
       "<path fill=\"none\" stroke=\"black\" d=\"M224,-217.81C224,-211.6 224,-204.45 224,-197.6\"/>\n",
       "<polygon fill=\"black\" stroke=\"black\" points=\"227.5,-197.24 224,-187.24 220.5,-197.24 227.5,-197.24\"/>\n",
       "</g>\n",
       "<!-- extraction_handle -->\n",
       "<g id=\"node9\" class=\"node\">\n",
       "<title>extraction_handle</title>\n",
       "<path fill=\"#b4d8e4\" stroke=\"black\" d=\"M276.5,-119C276.5,-119 171.5,-119 171.5,-119 165.5,-119 159.5,-113 159.5,-107 159.5,-107 159.5,-94 159.5,-94 159.5,-88 165.5,-82 171.5,-82 171.5,-82 276.5,-82 276.5,-82 282.5,-82 288.5,-88 288.5,-94 288.5,-94 288.5,-107 288.5,-107 288.5,-113 282.5,-119 276.5,-119\"/>\n",
       "<text text-anchor=\"middle\" x=\"224\" y=\"-96.8\" font-family=\"Helvetica,sans-Serif\" font-size=\"14.00\">extraction_handle</text>\n",
       "</g>\n",
       "<!-- extraction_store&#45;&gt;extraction_handle -->\n",
       "<g id=\"edge8\" class=\"edge\">\n",
       "<title>extraction_store&#45;&gt;extraction_handle</title>\n",
       "<path fill=\"none\" stroke=\"black\" d=\"M224,-149.81C224,-143.6 224,-136.45 224,-129.6\"/>\n",
       "<polygon fill=\"black\" stroke=\"black\" points=\"227.5,-129.24 224,-119.24 220.5,-129.24 227.5,-129.24\"/>\n",
       "</g>\n",
       "<!-- extraction_fail -->\n",
       "<g id=\"node10\" class=\"node\">\n",
       "<title>extraction_fail</title>\n",
       "<path fill=\"#b4d8e4\" stroke=\"black\" d=\"M195,-37C195,-37 113,-37 113,-37 107,-37 101,-31 101,-25 101,-25 101,-12 101,-12 101,-6 107,0 113,0 113,0 195,0 195,0 201,0 207,-6 207,-12 207,-12 207,-25 207,-25 207,-31 201,-37 195,-37\"/>\n",
       "<text text-anchor=\"middle\" x=\"154\" y=\"-14.8\" font-family=\"Helvetica,sans-Serif\" font-size=\"14.00\">extraction_fail</text>\n",
       "</g>\n",
       "<!-- extraction_handle&#45;&gt;extraction_fail -->\n",
       "<g id=\"edge9\" class=\"edge\">\n",
       "<title>extraction_handle&#45;&gt;extraction_fail</title>\n",
       "<path fill=\"none\" stroke=\"black\" stroke-dasharray=\"5,2\" d=\"M170.19,-81.93C164.21,-77.91 158.89,-73 155,-67 151.29,-61.28 149.87,-54.3 149.65,-47.47\"/>\n",
       "<polygon fill=\"black\" stroke=\"black\" points=\"153.16,-47.22 150.13,-37.06 146.17,-46.89 153.16,-47.22\"/>\n",
       "<text text-anchor=\"middle\" x=\"214\" y=\"-55.8\" font-family=\"Times,serif\" font-size=\"14.00\">extraction_status=fail</text>\n",
       "</g>\n",
       "<!-- extraction_success -->\n",
       "<g id=\"node11\" class=\"node\">\n",
       "<title>extraction_success</title>\n",
       "<path fill=\"#b4d8e4\" stroke=\"black\" d=\"M351.5,-37C351.5,-37 238.5,-37 238.5,-37 232.5,-37 226.5,-31 226.5,-25 226.5,-25 226.5,-12 226.5,-12 226.5,-6 232.5,0 238.5,0 238.5,0 351.5,0 351.5,0 357.5,0 363.5,-6 363.5,-12 363.5,-12 363.5,-25 363.5,-25 363.5,-31 357.5,-37 351.5,-37\"/>\n",
       "<text text-anchor=\"middle\" x=\"295\" y=\"-14.8\" font-family=\"Helvetica,sans-Serif\" font-size=\"14.00\">extraction_success</text>\n",
       "</g>\n",
       "<!-- extraction_handle&#45;&gt;extraction_success -->\n",
       "<g id=\"edge10\" class=\"edge\">\n",
       "<title>extraction_handle&#45;&gt;extraction_success</title>\n",
       "<path fill=\"none\" stroke=\"black\" stroke-dasharray=\"5,2\" d=\"M256.13,-81.91C262.24,-77.59 268.21,-72.58 273,-67 278.13,-61.03 282.3,-53.66 285.59,-46.52\"/>\n",
       "<polygon fill=\"black\" stroke=\"black\" points=\"288.9,-47.66 289.51,-37.09 282.44,-44.97 288.9,-47.66\"/>\n",
       "<text text-anchor=\"middle\" x=\"353.5\" y=\"-55.8\" font-family=\"Times,serif\" font-size=\"14.00\">extraction_status=success</text>\n",
       "</g>\n",
       "</g>\n",
       "</svg>\n"
      ],
      "text/plain": [
       "<burr.core.application.Application at 0x1429499d0>"
      ]
     },
     "execution_count": 4,
     "metadata": {},
     "output_type": "execute_result"
    }
   ],
   "source": [
    "from ragnostic import extraction\n",
    "db_path = '+ragnostic_db.db'\n",
    "tracker_project = 'ragnostic'\n",
    "app = extraction.build_extraction_workflow(\n",
    "    db_path = db_path,\n",
    "    tracker_project = tracker_project,\n",
    ")\n",
    "app"
   ]
  },
  {
   "cell_type": "code",
   "execution_count": 5,
   "id": "01e2db25-1d0f-4fca-9a34-fa74fead7358",
   "metadata": {},
   "outputs": [],
   "source": [
    "doc_id = \"DOC_6j6x8s3tefsa\"\n",
    "db_path = '+ragnostic_db.db'\n",
    "tracker_project = 'ragnostic'\n",
    "\n",
    "state = extraction.run_extraction(\n",
    "    document_id=doc_id,\n",
    "    db_path=db_path,\n",
    "    tracker_project=tracker_project\n",
    ")"
   ]
  },
  {
   "cell_type": "code",
   "execution_count": null,
   "id": "c6a65adf-a075-44ba-8d73-f928b7fc1088",
   "metadata": {},
   "outputs": [],
   "source": []
  },
  {
   "cell_type": "code",
   "execution_count": null,
   "id": "db19819a-1a55-4393-9371-06ed34cb79f5",
   "metadata": {},
   "outputs": [],
   "source": []
  },
  {
   "cell_type": "markdown",
   "id": "01a9980d-da3f-4fad-8656-e9a6e266c522",
   "metadata": {},
   "source": [
    "# ---- Working"
   ]
  },
  {
   "cell_type": "markdown",
   "id": "42ccdfdc-b0b2-4b25-9c1b-0c1602f89e29",
   "metadata": {
    "jp-MarkdownHeadingCollapsed": true
   },
   "source": [
    "# Extract Content"
   ]
  },
  {
   "cell_type": "code",
   "execution_count": 7,
   "id": "fc5a7e6f-2a19-485f-b69d-a1e6218d5902",
   "metadata": {},
   "outputs": [
    {
     "ename": "AttributeError",
     "evalue": "module 'docling' has no attribute 'load_document'",
     "output_type": "error",
     "traceback": [
      "\u001b[0;31m---------------------------------------------------------------------------\u001b[0m",
      "\u001b[0;31mAttributeError\u001b[0m                            Traceback (most recent call last)",
      "Cell \u001b[0;32mIn[7], line 7\u001b[0m\n\u001b[1;32m      5\u001b[0m \u001b[38;5;66;03m# Load document with docling\u001b[39;00m\n\u001b[1;32m      6\u001b[0m doc_path \u001b[38;5;241m=\u001b[39m Path(document\u001b[38;5;241m.\u001b[39mraw_file_path)\n\u001b[0;32m----> 7\u001b[0m doc \u001b[38;5;241m=\u001b[39m \u001b[43mdocling\u001b[49m\u001b[38;5;241;43m.\u001b[39;49m\u001b[43mload_document\u001b[49m(\u001b[38;5;28mstr\u001b[39m(doc_path))\n\u001b[1;32m      9\u001b[0m \u001b[38;5;66;03m# Process pages\u001b[39;00m\n\u001b[1;32m     10\u001b[0m extracted_content \u001b[38;5;241m=\u001b[39m []\n",
      "\u001b[0;31mAttributeError\u001b[0m: module 'docling' has no attribute 'load_document'"
     ]
    }
   ],
   "source": [
    "from pathlib import Path\n",
    "import docling\n",
    "from ragnostic.extraction.core.schema import ExtractedImage, ExtractedText, ContentLocation\n",
    "\n",
    "# Load document with docling\n",
    "doc_path = Path(document.raw_file_path)\n",
    "doc = docling.load_document(str(doc_path))\n",
    "\n",
    "# Process pages\n",
    "extracted_content = []\n",
    "for page_num, page in enumerate(doc.pages, start=1):\n",
    "    # Extract text blocks\n",
    "    for text_block in page.text_blocks:\n",
    "        text = ExtractedText(\n",
    "            content_id=f\"txt_{page_num}_{len(extracted_content)}\",\n",
    "            location=ContentLocation(\n",
    "                page=page_num,\n",
    "                bbox=text_block.bbox\n",
    "            ),\n",
    "            text=text_block.text,\n",
    "            is_header=text_block.is_heading,  # If docling provides this\n",
    "        )\n",
    "        extracted_content.append(text)\n",
    "    \n",
    "    # Extract images\n",
    "    for image in page.images:  # Adjust based on docling's API\n",
    "        img = ExtractedImage(\n",
    "            content_id=f\"img_{page_num}_{len(extracted_content)}\",\n",
    "            location=ContentLocation(\n",
    "                page=page_num,\n",
    "                bbox=image.bbox\n",
    "            ),\n",
    "            image_data=image.data,\n",
    "            format=image.format,\n",
    "            size_bytes=len(image.data)\n",
    "        )\n",
    "        extracted_content.append(img)\n",
    "\n",
    "print(f\"Extracted {len(extracted_content)} content items\")"
   ]
  },
  {
   "cell_type": "markdown",
   "id": "94f0919b-cd5e-4b57-8e8a-683b7f2aa1a2",
   "metadata": {
    "jp-MarkdownHeadingCollapsed": true
   },
   "source": [
    "# Store Content"
   ]
  },
  {
   "cell_type": "code",
   "execution_count": 8,
   "id": "ca191b30-a26a-48ed-bfac-1e7395b1e817",
   "metadata": {},
   "outputs": [
    {
     "ename": "NameError",
     "evalue": "name 'extracted_content' is not defined",
     "output_type": "error",
     "traceback": [
      "\u001b[0;31m---------------------------------------------------------------------------\u001b[0m",
      "\u001b[0;31mNameError\u001b[0m                                 Traceback (most recent call last)",
      "Cell \u001b[0;32mIn[8], line 13\u001b[0m\n\u001b[1;32m     10\u001b[0m storage \u001b[38;5;241m=\u001b[39m StorageHandler(db_client, storage_config)\n\u001b[1;32m     12\u001b[0m \u001b[38;5;66;03m# Store content\u001b[39;00m\n\u001b[0;32m---> 13\u001b[0m \u001b[38;5;28;01mfor\u001b[39;00m content \u001b[38;5;129;01min\u001b[39;00m \u001b[43mextracted_content\u001b[49m:\n\u001b[1;32m     14\u001b[0m     \u001b[38;5;28;01mif\u001b[39;00m \u001b[38;5;28misinstance\u001b[39m(content, ExtractedImage):\n\u001b[1;32m     15\u001b[0m         \u001b[38;5;66;03m# Store image\u001b[39;00m\n\u001b[1;32m     16\u001b[0m         result \u001b[38;5;241m=\u001b[39m storage\u001b[38;5;241m.\u001b[39mstore_image(\n\u001b[1;32m     17\u001b[0m             image_data\u001b[38;5;241m=\u001b[39mcontent\u001b[38;5;241m.\u001b[39mimage_data,\n\u001b[1;32m     18\u001b[0m             doc_id\u001b[38;5;241m=\u001b[39mdocument\u001b[38;5;241m.\u001b[39mid,\n\u001b[1;32m     19\u001b[0m             section_id\u001b[38;5;241m=\u001b[39m\u001b[38;5;124m\"\u001b[39m\u001b[38;5;124mSECTION_1\u001b[39m\u001b[38;5;124m\"\u001b[39m,  \u001b[38;5;66;03m# Replace with actual section ID\u001b[39;00m\n\u001b[1;32m     20\u001b[0m             caption\u001b[38;5;241m=\u001b[39mcontent\u001b[38;5;241m.\u001b[39mcaption\n\u001b[1;32m     21\u001b[0m         )\n",
      "\u001b[0;31mNameError\u001b[0m: name 'extracted_content' is not defined"
     ]
    }
   ],
   "source": [
    "from ragnostic.extraction.storage.schema import StorageConfig\n",
    "from ragnostic.extraction.storage.handler import StorageHandler\n",
    "\n",
    "# Setup storage handler\n",
    "storage_config = StorageConfig(\n",
    "    storage_dir=Path(\"./+extracted_content\"),  # Adjust path as needed\n",
    "    db_image_size_limit=1_000_000  # 1MB\n",
    ")\n",
    "\n",
    "storage = StorageHandler(db_client, storage_config)\n",
    "\n",
    "# Store content\n",
    "for content in extracted_content:\n",
    "    if isinstance(content, ExtractedImage):\n",
    "        # Store image\n",
    "        result = storage.store_image(\n",
    "            image_data=content.image_data,\n",
    "            doc_id=document.id,\n",
    "            section_id=\"SECTION_1\",  # Replace with actual section ID\n",
    "            caption=content.caption\n",
    "        )\n",
    "        print(f\"Stored image {content.content_id} at {result.location.reference}\")\n",
    "        \n",
    "    elif isinstance(content, ExtractedText):\n",
    "        # Store text in sections table\n",
    "        section = db_client.create_section(\n",
    "            section_id=f\"section_{content.content_id}\",\n",
    "            doc_id=document.id,\n",
    "            content=content.text,\n",
    "            page_start=content.location.page,\n",
    "            page_end=content.location.page\n",
    "        )\n",
    "        print(f\"Stored text section {section.section_id}\")"
   ]
  },
  {
   "cell_type": "code",
   "execution_count": null,
   "id": "d3d20cb6-b9d2-4f56-8416-d599e047fd82",
   "metadata": {},
   "outputs": [],
   "source": []
  },
  {
   "cell_type": "code",
   "execution_count": null,
   "id": "507ebb67-6a31-46c7-a584-613dd5461619",
   "metadata": {},
   "outputs": [],
   "source": []
  },
  {
   "cell_type": "code",
   "execution_count": null,
   "id": "b7ee5b06-9748-4e10-8ffc-2a860530a223",
   "metadata": {},
   "outputs": [],
   "source": []
  },
  {
   "cell_type": "code",
   "execution_count": null,
   "id": "ff7957f4-74ac-462d-b29c-dfeba74abf50",
   "metadata": {},
   "outputs": [],
   "source": []
  },
  {
   "cell_type": "code",
   "execution_count": null,
   "id": "de2b77db-3e8f-40c8-9d42-1edac68bcff4",
   "metadata": {},
   "outputs": [],
   "source": []
  },
  {
   "cell_type": "code",
   "execution_count": null,
   "id": "edc196ad-677f-4d21-85c7-0650fcb1e279",
   "metadata": {},
   "outputs": [],
   "source": []
  },
  {
   "cell_type": "markdown",
   "id": "70a40d9e-2d89-4b2b-a25a-0d4eceb7d896",
   "metadata": {},
   "source": [
    "# WORKING ---------- Extraction Flow DAG\n",
    "\n",
    "The Processing covers metadata and document text content to the database.\n",
    "\n",
    "At this level we will include:\n",
    "- document_router: send to PDF or website processer\n",
    "- text_extraction: extract text from pdf\n",
    "- image_extraction: extract images and store in database\n",
    "- table_extraction: extract tables and store in database\n",
    "- metadata_extraction: update metadata\n"
   ]
  },
  {
   "cell_type": "code",
   "execution_count": null,
   "id": "b7be9aff-6d63-430e-ba4a-11610fb93951",
   "metadata": {},
   "outputs": [],
   "source": []
  }
 ],
 "metadata": {
  "kernelspec": {
   "display_name": "Python 3 (ipykernel)",
   "language": "python",
   "name": "python3"
  },
  "language_info": {
   "codemirror_mode": {
    "name": "ipython",
    "version": 3
   },
   "file_extension": ".py",
   "mimetype": "text/x-python",
   "name": "python",
   "nbconvert_exporter": "python",
   "pygments_lexer": "ipython3",
   "version": "3.11.11"
  }
 },
 "nbformat": 4,
 "nbformat_minor": 5
}
